{
 "cells": [
  {
   "cell_type": "code",
   "execution_count": 3,
   "id": "800791ce-cefa-4c90-b70a-6ff0f297ae08",
   "metadata": {},
   "outputs": [
    {
     "name": "stdout",
     "output_type": "stream",
     "text": [
      "hello\n"
     ]
    }
   ],
   "source": [
    "print(\"hello\")"
   ]
  },
  {
   "cell_type": "code",
   "execution_count": 4,
   "id": "f76fbddb-274f-4179-ab33-f48c40806e97",
   "metadata": {},
   "outputs": [],
   "source": [
    "import numpy as np"
   ]
  },
  {
   "cell_type": "code",
   "execution_count": 5,
   "id": "0658b98f-7224-46c2-99ae-5c2de3bde920",
   "metadata": {},
   "outputs": [
    {
     "name": "stdout",
     "output_type": "stream",
     "text": [
      "[ 5 12 21 32]\n",
      "Addition of these two array is: [ 6  8 10 12]\n"
     ]
    }
   ],
   "source": [
    "a=np.array([1,2,3,4])\n",
    "b=np.array([5,6,7,8])\n",
    "print(a*b)\n",
    "print(f\"Addition of these two array is: {a+b}\")"
   ]
  },
  {
   "cell_type": "code",
   "execution_count": 6,
   "id": "9b8ebfb3-54d3-4e6b-8c3d-4eeebd00eaa4",
   "metadata": {},
   "outputs": [
    {
     "name": "stdout",
     "output_type": "stream",
     "text": [
      "[[1 2 3]\n",
      " [4 5 6]]\n",
      "(2, 3)\n",
      "(4,)\n",
      "1\n"
     ]
    }
   ],
   "source": [
    "#2-D array\n",
    "c=np.array([[1,2,3],[4,5,6]])\n",
    "print(c)\n",
    "#get shape of array\n",
    "print(c.shape)\n",
    "print(a.shape)  #a is 1d array\n",
    "print(b.ndim)  #dimension of array b"
   ]
  },
  {
   "cell_type": "code",
   "execution_count": 7,
   "id": "0cf853fe-5af1-487c-8cdc-f5ca3be8d16b",
   "metadata": {},
   "outputs": [
    {
     "data": {
      "text/plain": [
       "4"
      ]
     },
     "execution_count": 7,
     "metadata": {},
     "output_type": "execute_result"
    }
   ],
   "source": [
    "a.itemsize #number of bytes occupied by one item in array"
   ]
  },
  {
   "cell_type": "code",
   "execution_count": 8,
   "id": "2b92e76d-4750-4f8a-89a6-fa23aa94051d",
   "metadata": {
    "scrolled": true
   },
   "outputs": [
    {
     "data": {
      "text/plain": [
       "3"
      ]
     },
     "execution_count": 8,
     "metadata": {},
     "output_type": "execute_result"
    }
   ],
   "source": [
    "d=np.array([1,2,3])\n",
    "d.size #to get number of elements"
   ]
  },
  {
   "cell_type": "code",
   "execution_count": 9,
   "id": "7605272e-47de-4e9e-96cd-9140ccd1a14c",
   "metadata": {},
   "outputs": [
    {
     "name": "stdout",
     "output_type": "stream",
     "text": [
      "12\n",
      "12\n"
     ]
    }
   ],
   "source": [
    "print(d.size * d.itemsize)   #number of bytes or space occupied by array d\n",
    "# or could be done by:\n",
    "print(d.nbytes)"
   ]
  },
  {
   "cell_type": "code",
   "execution_count": null,
   "id": "c4c45ae1-ff4b-4e96-8d83-7f77749d10df",
   "metadata": {},
   "outputs": [],
   "source": []
  }
 ],
 "metadata": {
  "kernelspec": {
   "display_name": "Python 3 (ipykernel)",
   "language": "python",
   "name": "python3"
  },
  "language_info": {
   "codemirror_mode": {
    "name": "ipython",
    "version": 3
   },
   "file_extension": ".py",
   "mimetype": "text/x-python",
   "name": "python",
   "nbconvert_exporter": "python",
   "pygments_lexer": "ipython3",
   "version": "3.12.4"
  }
 },
 "nbformat": 4,
 "nbformat_minor": 5
}
