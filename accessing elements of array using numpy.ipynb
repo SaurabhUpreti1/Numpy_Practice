{
 "cells": [
  {
   "cell_type": "code",
   "execution_count": 49,
   "id": "e8abc488-9d4d-4255-9daa-404842237d49",
   "metadata": {},
   "outputs": [
    {
     "name": "stdout",
     "output_type": "stream",
     "text": [
      "[[ 1  2  3  0  7  8  9 99]\n",
      " [ 5  6  7  8 33 56 78 98]]\n"
     ]
    }
   ],
   "source": [
    "import numpy as np\n",
    "a=np.array([[1,2,3,0,7,8,9,99],[5,6,7,8,33,56,78,98]])\n",
    "print(a)"
   ]
  },
  {
   "cell_type": "code",
   "execution_count": 50,
   "id": "01099959-bfb3-466b-9a47-09a74d80c0dd",
   "metadata": {},
   "outputs": [
    {
     "name": "stdout",
     "output_type": "stream",
     "text": [
      "1\n",
      "5\n",
      "8\n"
     ]
    }
   ],
   "source": [
    "#get a specified element  a [row no. , col no.]\n",
    "print(a[0,0])\n",
    "print(a[1,0])\n",
    "print(a[1,3])"
   ]
  },
  {
   "cell_type": "code",
   "execution_count": 51,
   "id": "c8e3541b-fcd3-42f1-8558-f9887c595b03",
   "metadata": {},
   "outputs": [
    {
     "data": {
      "text/plain": [
       "array([ 1,  2,  3,  0,  7,  8,  9, 99])"
      ]
     },
     "execution_count": 51,
     "metadata": {},
     "output_type": "execute_result"
    }
   ],
   "source": [
    "#get a specific row\n",
    "a[0,:]"
   ]
  },
  {
   "cell_type": "code",
   "execution_count": 52,
   "id": "7f6c5a5f-3e99-4dc2-ab23-4b3287c5136e",
   "metadata": {},
   "outputs": [
    {
     "data": {
      "text/plain": [
       "array([2, 6])"
      ]
     },
     "execution_count": 52,
     "metadata": {},
     "output_type": "execute_result"
    }
   ],
   "source": [
    "#specific col\n",
    "a[:,1] #got 2nd col but its index is 1"
   ]
  },
  {
   "cell_type": "code",
   "execution_count": 53,
   "id": "cebcf2e9-08a2-43e6-b09a-e4c82229a1e9",
   "metadata": {},
   "outputs": [
    {
     "data": {
      "text/plain": [
       "array([1, 3, 7, 9])"
      ]
     },
     "execution_count": 53,
     "metadata": {},
     "output_type": "execute_result"
    }
   ],
   "source": [
    "a[0,0:7:2] #give row 1 with step size of 2 and starting index=0 and ending index=7 for 1st row"
   ]
  },
  {
   "cell_type": "code",
   "execution_count": 54,
   "id": "01966056-cd8b-4a15-9f3d-a5f7d787df08",
   "metadata": {},
   "outputs": [
    {
     "name": "stdout",
     "output_type": "stream",
     "text": [
      "[[ 1  6  3  0  7  8  9 99]\n",
      " [ 5  6  7  8 33 56 78 98]]\n"
     ]
    }
   ],
   "source": [
    "a[0,1]=6\n",
    "print(a)"
   ]
  },
  {
   "cell_type": "code",
   "execution_count": null,
   "id": "5cda0a76-0b06-4192-a48c-8b3d0417b90b",
   "metadata": {},
   "outputs": [],
   "source": []
  }
 ],
 "metadata": {
  "kernelspec": {
   "display_name": "Python 3 (ipykernel)",
   "language": "python",
   "name": "python3"
  },
  "language_info": {
   "codemirror_mode": {
    "name": "ipython",
    "version": 3
   },
   "file_extension": ".py",
   "mimetype": "text/x-python",
   "name": "python",
   "nbconvert_exporter": "python",
   "pygments_lexer": "ipython3",
   "version": "3.12.4"
  }
 },
 "nbformat": 4,
 "nbformat_minor": 5
}
