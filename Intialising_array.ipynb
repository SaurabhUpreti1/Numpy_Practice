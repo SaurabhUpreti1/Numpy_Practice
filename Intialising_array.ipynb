{
 "cells": [
  {
   "cell_type": "code",
   "execution_count": 2,
   "id": "948b809e-16a6-4b36-95b8-dafdef29d0bf",
   "metadata": {},
   "outputs": [],
   "source": [
    "import numpy as np"
   ]
  },
  {
   "cell_type": "code",
   "execution_count": 3,
   "id": "b14c3f7e-f185-4529-8c0a-27b75403b8c8",
   "metadata": {},
   "outputs": [
    {
     "data": {
      "text/plain": [
       "array([[[0., 0., 0., 0., 0.],\n",
       "        [0., 0., 0., 0., 0.],\n",
       "        [0., 0., 0., 0., 0.],\n",
       "        [0., 0., 0., 0., 0.],\n",
       "        [0., 0., 0., 0., 0.]],\n",
       "\n",
       "       [[0., 0., 0., 0., 0.],\n",
       "        [0., 0., 0., 0., 0.],\n",
       "        [0., 0., 0., 0., 0.],\n",
       "        [0., 0., 0., 0., 0.],\n",
       "        [0., 0., 0., 0., 0.]]])"
      ]
     },
     "execution_count": 3,
     "metadata": {},
     "output_type": "execute_result"
    }
   ],
   "source": [
    "np.zeros((2,5,5)) #zero matrix of whatever shape given"
   ]
  },
  {
   "cell_type": "code",
   "execution_count": 5,
   "id": "eaa0e3a4-23ff-451c-95cd-dee885ff533b",
   "metadata": {},
   "outputs": [
    {
     "name": "stdout",
     "output_type": "stream",
     "text": [
      "[[1. 1. 1.]\n",
      " [1. 1. 1.]]\n"
     ]
    }
   ],
   "source": [
    "a=np.ones((2,3))\n",
    "print(a)"
   ]
  },
  {
   "cell_type": "code",
   "execution_count": 5,
   "id": "a21807e8-570d-4f6f-b333-6afc973cadd9",
   "metadata": {},
   "outputs": [
    {
     "data": {
      "text/plain": [
       "array([[5, 5, 5, 5],\n",
       "       [5, 5, 5, 5],\n",
       "       [5, 5, 5, 5]])"
      ]
     },
     "execution_count": 5,
     "metadata": {},
     "output_type": "execute_result"
    }
   ],
   "source": [
    "np.full((3,4),5) #3 by 4 2-d matrix where each element is 5"
   ]
  },
  {
   "cell_type": "code",
   "execution_count": 6,
   "id": "6242fb3b-d33b-46e0-adb5-58f25930de67",
   "metadata": {},
   "outputs": [
    {
     "data": {
      "text/plain": [
       "array([[0.01246059, 0.3491367 , 0.58903173],\n",
       "       [0.16874535, 0.97886864, 0.49933449]])"
      ]
     },
     "execution_count": 6,
     "metadata": {},
     "output_type": "execute_result"
    }
   ],
   "source": [
    "np.random.rand(2,3) #random float numbers"
   ]
  },
  {
   "cell_type": "code",
   "execution_count": 7,
   "id": "5f962f5a-4f7e-457b-9107-24a099820084",
   "metadata": {},
   "outputs": [
    {
     "data": {
      "text/plain": [
       "array([[0.19226067, 0.85028996, 0.24147273],\n",
       "       [0.68848088, 0.37094799, 0.22187124]])"
      ]
     },
     "execution_count": 7,
     "metadata": {},
     "output_type": "execute_result"
    }
   ],
   "source": [
    "np.random.random_sample(a.shape) #to assign another matrix shape"
   ]
  },
  {
   "cell_type": "code",
   "execution_count": 8,
   "id": "be2466d2-ffbe-42f6-a783-f1316dfb63ed",
   "metadata": {},
   "outputs": [
    {
     "data": {
      "text/plain": [
       "array([[   5,  -66, -100,  -42],\n",
       "       [  29,   69,  -61,   -7],\n",
       "       [ -55,   44,  -20,   49]])"
      ]
     },
     "execution_count": 8,
     "metadata": {},
     "output_type": "execute_result"
    }
   ],
   "source": [
    "#matrix with any random integer from -100 to 100 of size 3*4\n",
    "np.random.randint(-100,101,size=(3,4))"
   ]
  },
  {
   "cell_type": "code",
   "execution_count": 9,
   "id": "8a8f9774-35c8-48b0-9e1c-8719303b2725",
   "metadata": {},
   "outputs": [
    {
     "data": {
      "text/plain": [
       "array([[1., 0., 0.],\n",
       "       [0., 1., 0.],\n",
       "       [0., 0., 1.]])"
      ]
     },
     "execution_count": 9,
     "metadata": {},
     "output_type": "execute_result"
    }
   ],
   "source": [
    "np.identity(3) #identity matrix has size m*m"
   ]
  },
  {
   "cell_type": "code",
   "execution_count": 19,
   "id": "2d3d0e06-66f6-4847-a293-3ea05e855981",
   "metadata": {},
   "outputs": [
    {
     "name": "stdout",
     "output_type": "stream",
     "text": [
      "[[1. 1. 1. 1. 1.]\n",
      " [1. 1. 1. 1. 1.]\n",
      " [1. 1. 1. 1. 1.]\n",
      " [1. 1. 1. 1. 1.]\n",
      " [1. 1. 1. 1. 1.]]\n",
      "\n",
      "[[0. 0. 0.]\n",
      " [0. 0. 0.]\n",
      " [0. 0. 0.]]\n",
      "[[0. 0. 0.]\n",
      " [0. 9. 0.]\n",
      " [0. 0. 0.]]\n",
      "\n",
      "\n",
      "[[1 1 1 1 1]\n",
      " [1 0 0 0 1]\n",
      " [1 0 9 0 1]\n",
      " [1 0 0 0 1]\n",
      " [1 1 1 1 1]]\n"
     ]
    }
   ],
   "source": [
    "a=np.ones((5,5)) #exercise1\n",
    "print(f\"{a}{\"\\n\"}\")\n",
    "z=np.zeros((3,3))\n",
    "print(z)\n",
    "z[1,1]=9\n",
    "print(z)\n",
    "print(\"\\n\")\n",
    "a[1:-1,1:-1]=z\n",
    "print(a.astype(int))"
   ]
  },
  {
   "cell_type": "markdown",
   "id": "f3c31571-047e-4c1f-b8d0-cc2dcb66c5d0",
   "metadata": {},
   "source": [
    "## Be careful while copying matrices"
   ]
  },
  {
   "cell_type": "code",
   "execution_count": 33,
   "id": "19c1b998-7e99-4eea-8847-d8bb155ba0e4",
   "metadata": {},
   "outputs": [
    {
     "name": "stdout",
     "output_type": "stream",
     "text": [
      "[[1 2 3]\n",
      " [3 4 5]]\n",
      "\n",
      "\n",
      "[[100   2   3]\n",
      " [  3   4   5]]\n",
      "\n",
      "\n",
      "[[100   2   3]\n",
      " [  3   4   5]]\n",
      "\n",
      "[[1 2 3]\n",
      " [3 4 5]]\n",
      "\n",
      "[[100   2   3]\n",
      " [  3   4   5]]\n"
     ]
    }
   ],
   "source": [
    "a=np.array([[1,2,3],[3,4,5]])\n",
    "b=a\n",
    "print(b)\n",
    "print(\"\\n\")\n",
    "b[0,0]=100\n",
    "print(b)\n",
    "print(\"\\n\")\n",
    "print(f\"{a}\\n\") #This will also give same matrix as b so we use copy function\n",
    "b=a.copy()\n",
    "b[0,0]=1\n",
    "print(f\"{b}\\n\")\n",
    "print(a)"
   ]
  },
  {
   "cell_type": "code",
   "execution_count": 29,
   "id": "a19dcdf8-1a27-49ac-a607-7cc8cb0200e6",
   "metadata": {},
   "outputs": [
    {
     "name": "stdout",
     "output_type": "stream",
     "text": [
      "[100, 2, 3, 4, 5]\n",
      "\n",
      "[100, 2, 3, 4, 5]\n",
      "[100, 2, 3, 4, 5]\n",
      "[1, 2, 3, 4, 5]\n",
      "[100, 2, 3, 4, 5]\n"
     ]
    }
   ],
   "source": [
    "#Same goes for list\n",
    "h=[1,2,3,4,5]\n",
    "k=h\n",
    "k[0]=100\n",
    "print(f\"{k}\\n\")\n",
    "print(h)\n",
    "k=h.copy()\n",
    "print(k)\n",
    "k[0]=1\n",
    "print(k)\n",
    "print(h)"
   ]
  }
 ],
 "metadata": {
  "kernelspec": {
   "display_name": "Python 3 (ipykernel)",
   "language": "python",
   "name": "python3"
  },
  "language_info": {
   "codemirror_mode": {
    "name": "ipython",
    "version": 3
   },
   "file_extension": ".py",
   "mimetype": "text/x-python",
   "name": "python",
   "nbconvert_exporter": "python",
   "pygments_lexer": "ipython3",
   "version": "3.12.4"
  }
 },
 "nbformat": 4,
 "nbformat_minor": 5
}
