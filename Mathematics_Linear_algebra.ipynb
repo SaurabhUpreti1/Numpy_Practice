{
 "cells": [
  {
   "cell_type": "code",
   "execution_count": 3,
   "id": "5cc159c9-083c-4758-a993-ffce63bf3a5e",
   "metadata": {},
   "outputs": [],
   "source": [
    "import numpy as np"
   ]
  },
  {
   "cell_type": "code",
   "execution_count": 7,
   "id": "1f85f09e-3b2b-4cfe-9c5c-d9079a763f3e",
   "metadata": {},
   "outputs": [
    {
     "name": "stdout",
     "output_type": "stream",
     "text": [
      "[[ 8 10 12  5 56]\n",
      " [11 13 15 17  2]]\n",
      "[[0.14285714 0.25       0.33333333 4.         4.09090909]\n",
      " [1.75       1.6        1.5        1.42857143 1.        ]]\n",
      "[[  7  16  27   4 495]\n",
      " [ 28  40  54  70   1]]\n"
     ]
    }
   ],
   "source": [
    "a=np.array([[1,2,3,4,45],[7,8,9,10,1]])\n",
    "b=np.array([[7,8,9,1,11],[4,5,6,7,1]])\n",
    "print(a+b)\n",
    "print(a/b)\n",
    "print(a*b) #matmul will give error here as no of cuolumn of a is not equal to no of rows of b"
   ]
  },
  {
   "cell_type": "code",
   "execution_count": 23,
   "id": "d5e22f8d-68de-49e9-a7a1-014a3d2af917",
   "metadata": {},
   "outputs": [
    {
     "name": "stdout",
     "output_type": "stream",
     "text": [
      "[[1 2 3]\n",
      " [5 6 7]]\n",
      "[[  1   2   3   4]\n",
      " [  7   8   9   0]\n",
      " [ 55 666  77  88]]\n",
      "[[ 180 2016  252  268]\n",
      " [ 432 4720  608  636]]\n"
     ]
    }
   ],
   "source": [
    "#if matrices are of size m*n and n*j then multiplication:\n",
    "c=np.array([[1,2,3],[5,6,7]])\n",
    "d=np.array([[1,2,3,4],[7,8,9,0],[55,666,77,88]])\n",
    "print(f\"{c}\\n{d}\")\n",
    "print(np.matmul(c,d)) #resultant matrix of 2*4"
   ]
  },
  {
   "cell_type": "code",
   "execution_count": 24,
   "id": "a1f48878-13a2-4c8d-acaa-548c21ff9462",
   "metadata": {},
   "outputs": [
    {
     "name": "stdout",
     "output_type": "stream",
     "text": [
      "Determinant: -2.0000000000000004\n"
     ]
    }
   ],
   "source": [
    "#find determinant\n",
    "matrix = np.array([[1, 2], [3, 4]])  # Example matrix\n",
    "det = np.linalg.det(matrix)\n",
    "print(\"Determinant:\", det)"
   ]
  },
  {
   "cell_type": "code",
   "execution_count": 25,
   "id": "7c3781bb-aa22-4ffe-8aa1-7c011b078b7c",
   "metadata": {},
   "outputs": [
    {
     "name": "stdout",
     "output_type": "stream",
     "text": [
      "Inverse:\n",
      " [[-2.   1. ]\n",
      " [ 1.5 -0.5]]\n"
     ]
    }
   ],
   "source": [
    "#inreverse\n",
    "if np.linalg.det(matrix) != 0:  # Check if the matrix is invertible\n",
    "    inverse = np.linalg.inv(matrix)\n",
    "    print(\"Inverse:\\n\", inverse)\n",
    "else:\n",
    "    print(\"Matrix is singular and not invertible.\")"
   ]
  },
  {
   "cell_type": "code",
   "execution_count": 26,
   "id": "11032b51-9175-4f24-8b73-61abac249ab9",
   "metadata": {},
   "outputs": [
    {
     "name": "stdout",
     "output_type": "stream",
     "text": [
      "EigResult(eigenvalues=array([-0.37228132,  5.37228132]), eigenvectors=array([[-0.82456484, -0.41597356],\n",
      "       [ 0.56576746, -0.90937671]]))\n"
     ]
    }
   ],
   "source": [
    "#find eigan calues and vector\n",
    "print (np.linalg.eig(matrix))"
   ]
  },
  {
   "cell_type": "code",
   "execution_count": 27,
   "id": "0918a3c0-0207-4aa9-9a83-fabc8ad5719f",
   "metadata": {},
   "outputs": [
    {
     "name": "stdout",
     "output_type": "stream",
     "text": [
      "[[1 2 3 4]\n",
      " [5 6 7 8]]\n",
      "[[1]\n",
      " [2]\n",
      " [3]\n",
      " [4]\n",
      " [5]\n",
      " [6]\n",
      " [7]\n",
      " [8]]\n",
      "[[1 2]\n",
      " [3 4]\n",
      " [5 6]\n",
      " [7 8]]\n",
      "\n",
      "\n",
      "[[[1 2]\n",
      "  [3 4]]\n",
      "\n",
      " [[5 6]\n",
      "  [7 8]]]\n"
     ]
    }
   ],
   "source": [
    "#Reprganising matrices\n",
    "o=np.array([[1,2,3,4],[5,6,7,8]])\n",
    "print(o)\n",
    "k=o.reshape((8,1))\n",
    "print(k)\n",
    "print(o.reshape((4,2)))\n",
    "print(\"\\n\")\n",
    "print(o.reshape((2,2,2)))"
   ]
  },
  {
   "cell_type": "code",
   "execution_count": 28,
   "id": "c253185c-ea9c-470b-8d40-64aebe422948",
   "metadata": {},
   "outputs": [
    {
     "name": "stdout",
     "output_type": "stream",
     "text": [
      "Vertically stacked matrix:\n",
      "[[1 2]\n",
      " [3 4]\n",
      " [5 6]\n",
      " [7 8]]\n"
     ]
    }
   ],
   "source": [
    "A = np.array([[1, 2], [3, 4]])\n",
    "B = np.array([[5, 6], [7, 8]])\n",
    "\n",
    "# Stack them vertically\n",
    "C = np.vstack((A, B))\n",
    "\n",
    "print(\"Vertically stacked matrix:\")\n",
    "print(C)"
   ]
  },
  {
   "cell_type": "code",
   "execution_count": 29,
   "id": "e56719eb-b28f-43b8-b112-b06741087668",
   "metadata": {},
   "outputs": [
    {
     "name": "stdout",
     "output_type": "stream",
     "text": [
      "Horizontally stacked matrix:\n",
      "[[ 1  2  3  4  5  6]\n",
      " [ 9  0 11 12  7  8]]\n"
     ]
    }
   ],
   "source": [
    "A = np.array([[1, 2,3,4], [9, 0,11,12]])\n",
    "B = np.array([[5, 6], [7, 8]])\n",
    "\n",
    "# Stack them horizontally\n",
    "D = np.hstack((A, B))\n",
    "\n",
    "print(\"Horizontally stacked matrix:\")\n",
    "print(D)"
   ]
  },
  {
   "cell_type": "markdown",
   "id": "53cda2d0-11c8-4c85-9fd9-4e4c802daa4c",
   "metadata": {},
   "source": [
    "## getting data from file"
   ]
  },
  {
   "cell_type": "code",
   "execution_count": 34,
   "id": "61eaa10f-dec2-47b5-a2aa-13151a6602af",
   "metadata": {},
   "outputs": [
    {
     "name": "stdout",
     "output_type": "stream",
     "text": [
      "[ 16  25  51  31  53  22  29   5  84  52  79  50  76  41  99  59  34  27\n",
      "  52  71  65   9  22  17  32  48  64  34  17  55  59  31  31  19  57  87\n",
      "  82  48  77  81  69  63  24  15 100   7  51  52  24  35  95  64  84   1\n",
      "  71  51  53  48 100   1  49  45   8   2  89  21  55  97  38  41  22  83\n",
      "  60  44   3  72   7  37  75  97  49  28  41  35  59  73  52  89  37  11\n",
      "  37  76  89  25  77  84  77   7  55  49]\n"
     ]
    }
   ],
   "source": [
    "file=np.genfromtxt('random_numbers.txt')\n",
    "file=file.astype(int)\n",
    "print(file)"
   ]
  },
  {
   "cell_type": "code",
   "execution_count": 45,
   "id": "4cafe091-df1c-464a-84e1-00017385f84b",
   "metadata": {},
   "outputs": [
    {
     "name": "stdout",
     "output_type": "stream",
     "text": [
      "[False False  True False  True False False False  True  True  True False\n",
      "  True False  True  True False False  True  True  True False False False\n",
      " False False  True False False  True  True False False False  True  True\n",
      "  True False  True  True  True  True False False  True False  True  True\n",
      " False False  True  True  True False  True  True  True False  True False\n",
      " False False False False  True False  True  True False False False  True\n",
      "  True False False  True False False  True  True False False False False\n",
      "  True  True  True  True False False False  True  True False  True  True\n",
      "  True False  True False]\n",
      "[ 51  53  84  52  79  76  99  59  52  71  65  64  55  59  57  87  82  77\n",
      "  81  69  63 100  51  52  95  64  84  71  51  53 100  89  55  97  83  60\n",
      "  72  75  97  59  73  52  89  76  89  77  84  77  55]\n"
     ]
    }
   ],
   "source": [
    "print(file>50) #shows value true or false\n",
    "print(file[file>50])"
   ]
  },
  {
   "cell_type": "code",
   "execution_count": null,
   "id": "ce0b0fbb-283a-4eb0-aabb-935ba8f42356",
   "metadata": {},
   "outputs": [],
   "source": []
  }
 ],
 "metadata": {
  "kernelspec": {
   "display_name": "Python 3 (ipykernel)",
   "language": "python",
   "name": "python3"
  },
  "language_info": {
   "codemirror_mode": {
    "name": "ipython",
    "version": 3
   },
   "file_extension": ".py",
   "mimetype": "text/x-python",
   "name": "python",
   "nbconvert_exporter": "python",
   "pygments_lexer": "ipython3",
   "version": "3.12.4"
  }
 },
 "nbformat": 4,
 "nbformat_minor": 5
}
