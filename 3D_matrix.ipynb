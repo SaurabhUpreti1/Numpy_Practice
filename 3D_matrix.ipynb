{
 "cells": [
  {
   "cell_type": "code",
   "execution_count": 9,
   "id": "c0f29a81-30ab-46d4-91c6-87734a154efd",
   "metadata": {},
   "outputs": [],
   "source": [
    "import numpy as np"
   ]
  },
  {
   "cell_type": "code",
   "execution_count": 10,
   "id": "f03051f8-5ab5-4469-9a29-0f17895c45bd",
   "metadata": {},
   "outputs": [
    {
     "name": "stdout",
     "output_type": "stream",
     "text": [
      "[[[ 1  2  6]\n",
      "  [ 3  4  5]\n",
      "  [34 36 35]]\n",
      "\n",
      " [[ 8  9  0]\n",
      "  [11 12 13]\n",
      "  [56 57 58]]]\n"
     ]
    }
   ],
   "source": [
    "a=np.array([[[1,2,6],[3,4,5],[34,36,35]],[[8,9,0],[11,12,13],[56,57,58]]]) #Declaring 3d matrix\n",
    "print(a)"
   ]
  },
  {
   "cell_type": "code",
   "execution_count": 11,
   "id": "c5a8a39b-6041-45cb-83bd-893f20ad13ca",
   "metadata": {},
   "outputs": [
    {
     "data": {
      "text/plain": [
       "(2, 3, 3)"
      ]
     },
     "execution_count": 11,
     "metadata": {},
     "output_type": "execute_result"
    }
   ],
   "source": [
    "a.shape #where 2 is the number of 2D matrices, 3 is the number of rows in each 2D matrix, and 3 is the number of columns in each 2D matrix"
   ]
  },
  {
   "cell_type": "code",
   "execution_count": 12,
   "id": "0c8bfdd4-5cd0-44e2-b9b5-8b4467705ed5",
   "metadata": {},
   "outputs": [
    {
     "data": {
      "text/plain": [
       "3"
      ]
     },
     "execution_count": 12,
     "metadata": {},
     "output_type": "execute_result"
    }
   ],
   "source": [
    "a.ndim"
   ]
  },
  {
   "cell_type": "code",
   "execution_count": 13,
   "id": "fb9e11b4-49db-4077-bb52-80ded51feda2",
   "metadata": {},
   "outputs": [
    {
     "data": {
      "text/plain": [
       "72"
      ]
     },
     "execution_count": 13,
     "metadata": {},
     "output_type": "execute_result"
    }
   ],
   "source": [
    "a.nbytes #total bytes occupied by elements"
   ]
  },
  {
   "cell_type": "code",
   "execution_count": 17,
   "id": "73cd47e7-e493-475d-81b0-06d898b7cd00",
   "metadata": {},
   "outputs": [
    {
     "data": {
      "text/plain": [
       "4"
      ]
     },
     "execution_count": 17,
     "metadata": {},
     "output_type": "execute_result"
    }
   ],
   "source": [
    "a[0,1,1] #from 1st 2d matrix gives 1st row and 1st col indexwise"
   ]
  },
  {
   "cell_type": "code",
   "execution_count": 22,
   "id": "008d3280-3960-4167-8be8-24b660acffa1",
   "metadata": {},
   "outputs": [
    {
     "data": {
      "text/plain": [
       "array([[34, 36, 35],\n",
       "       [56, 57, 58]])"
      ]
     },
     "execution_count": 22,
     "metadata": {},
     "output_type": "execute_result"
    }
   ],
   "source": [
    "a[:,2,:] #gives 2nd row and each col of each 2d matrix"
   ]
  }
 ],
 "metadata": {
  "kernelspec": {
   "display_name": "Python 3 (ipykernel)",
   "language": "python",
   "name": "python3"
  },
  "language_info": {
   "codemirror_mode": {
    "name": "ipython",
    "version": 3
   },
   "file_extension": ".py",
   "mimetype": "text/x-python",
   "name": "python",
   "nbconvert_exporter": "python",
   "pygments_lexer": "ipython3",
   "version": "3.12.4"
  }
 },
 "nbformat": 4,
 "nbformat_minor": 5
}
